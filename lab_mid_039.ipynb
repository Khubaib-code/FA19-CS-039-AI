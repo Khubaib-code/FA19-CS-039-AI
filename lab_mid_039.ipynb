{
  "nbformat": 4,
  "nbformat_minor": 0,
  "metadata": {
    "colab": {
      "provenance": []
    },
    "kernelspec": {
      "name": "python3",
      "display_name": "Python 3"
    },
    "language_info": {
      "name": "python"
    }
  },
  "cells": [
    {
      "cell_type": "code",
      "execution_count": 1,
      "metadata": {
        "id": "HCT37ZuAfEGG"
      },
      "outputs": [],
      "source": [
        "In this example, the board is represented as a 2D array, where 0 represents an empty space, 1 represents a space occupied by player 1, and 2 represents a space occupied by player 2. The player symbols are defined as a list of strings, and the BFS function uses a set to keep track of visited boards and a queue to store the boards to be visited.\n",
        "\n",
        "The BFS function starts with the initial board and checks all possible moves. If a move results in a board that has not been visited yet and does not result in a win for either player, it is added to the queue and the visited set. The function continues until it finds a winning board or the queue is empty.\n",
        "\n",
        "The check win function checks all rows, columns, and diagonals for a win condition. If a win condition is found, it returns True. Otherwise, it returns False.\n",
        "\n",
        "Finally, the result of the BFS function is printed, which is the winning board or None if no winning board was found. If a winning board was found, the index of the winning player in the players list is printed. If no winning board was found, it is a tie game."
      ]
    },
    {
      "cell_type": "code",
      "source": [
        "from queue import Queue\n",
        "\n",
        "# Define the board as a 2D array\n",
        "board = [\n",
        "    [0, 0, 0],\n",
        "    [0, 0, 0],\n",
        "    [0, 0, 0]\n",
        "]\n",
        "\n",
        "# Define the player symbols\n",
        "players = ['X', 'O']\n",
        "\n",
        "# Define the BFS function\n",
        "def bfs(board):\n",
        "    visited = set()\n",
        "    q = Queue()\n",
        "    q.put(board)\n",
        "\n",
        "    while not q.empty():\n",
        "        current = q.get()\n",
        "        if check_win(current):\n",
        "            return current\n",
        "        for i in range(3):\n",
        "            for j in range(3):\n",
        "                if current[i][j] == 0:\n",
        "                    for player in players:\n",
        "                        next_board = [row[:] for row in current]\n",
        "                        next_board[i][j] = player\n",
        "                        next_board_tuple = tuple(map(tuple, next_board))\n",
        "                        if next_board_tuple not in visited:\n",
        "                            q.put(next_board)\n",
        "                            visited.add(next_board_tuple)\n",
        "\n",
        "    return None\n",
        "\n",
        "# Define the check win function\n",
        "def check_win(board):\n",
        "    for i in range(3):\n",
        "        # Check rows\n",
        "        if board[i][0] == board[i][1] == board[i][2] and board[i][0] != 0:\n",
        "            return True\n",
        "        # Check columns\n",
        "        if board[0][i] == board[1][i] == board[2][i] and board[0][i] != 0:\n",
        "            return True\n",
        "    # Check diagonals\n",
        "    if board[0][0] == board[1][1] == board[2][2] and board[0][0] != 0:\n",
        "        return True\n",
        "    if board[0][2] == board[1][1] == board[2][0] and board[0][2] != 0:\n",
        "        return True\n",
        "    return False\n",
        "\n",
        "# Call the BFS function and print the result\n",
        "result = bfs(board)\n",
        "if result:\n",
        "    print(f\"Winner: {players.index(result[0][0])}\")\n",
        "else:\n",
        "    print(\"Tie game.\")"
      ],
      "metadata": {
        "colab": {
          "base_uri": "https://localhost:8080/"
        },
        "id": "nVULKAbbfGml",
        "outputId": "9beca7ef-8912-4811-b7a3-1bad74e2b199"
      },
      "execution_count": 2,
      "outputs": [
        {
          "output_type": "stream",
          "name": "stdout",
          "text": [
            "Winner: 0\n"
          ]
        }
      ]
    }
  ]
}