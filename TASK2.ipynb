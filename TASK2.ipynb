{
  "nbformat": 4,
  "nbformat_minor": 0,
  "metadata": {
    "colab": {
      "provenance": []
    },
    "kernelspec": {
      "name": "python3",
      "display_name": "Python 3"
    },
    "language_info": {
      "name": "python"
    }
  },
  "cells": [
    {
      "cell_type": "code",
      "execution_count": null,
      "metadata": {
        "id": "JuyPXcIv9wq7"
      },
      "outputs": [],
      "source": [
        "def BFS():\n",
        "  InitialState = 'D'\n",
        "  goalState = 'F'\n",
        "  graph = {'A' : Node('A', None, ['B','C','E'], None),\n",
        "           'B' : Node('B', None, ['A','D','E'], None),\n",
        "           'C' : Node('C', None, ['A','F','G'], None),\n",
        "           'D' : Node('D', None, ['B','E'], None),\n",
        "           'E' : Node('E', None, ['A','B','D'], None),\n",
        "           'F' : Node('F', None, ['C'], None),\n",
        "           'G' : Node('G', None, ['C'], None)}\n",
        "  frontier = [initialState]\n",
        "  explored=[]\n",
        "  while len(frontier)!=0:\n",
        "    currentNode = frontier.pop(0)\n",
        "    explored.append(currentNode)\n",
        "    for child in graph[currentNode].actions:\n",
        "      if child not in frontier and child not in explored:\n",
        "        graph[child].parent=currentNode\n",
        "        if graph[child].state==goalState:\n",
        "          return actionSeqence(graph, initialState, goalState)\n",
        "        frontier.append(child)\n",
        "\n",
        "\n",
        "solution = BFS()\n",
        "print(solution)\n",
        "\n",
        "def actionSequence(graph, initialState, goalState):\n",
        "  solution=[goalState]\n",
        "  currentParent=graph[goalState].parent\n",
        "  while currentParent!=None:\n",
        "    solution.append(currentParent)\n",
        "    currentParent = graph[currentParent].parent\n",
        " solution.reverse()\n",
        " return solution"
      ]
    }
  ]
}