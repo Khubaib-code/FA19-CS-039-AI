{
  "nbformat": 4,
  "nbformat_minor": 0,
  "metadata": {
    "colab": {
      "provenance": []
    },
    "kernelspec": {
      "name": "python3",
      "display_name": "Python 3"
    },
    "language_info": {
      "name": "python"
    }
  },
  "cells": [
    {
      "cell_type": "code",
      "execution_count": null,
      "metadata": {
        "id": "6g-Whnc3ms5q"
      },
      "outputs": [],
      "source": [
        "class Node:\n",
        "  #state = state \n",
        "  def ___init___(self,state,parent,actions,totalCost):\n",
        "    self.state = state\n",
        "    self.parent = parent\n",
        "    self.actions = actions\n",
        "    self.totalCost = totalCost\n",
        "\n",
        "    graph = {'A' : Node('A', None, ['B','C','E'], None),\n",
        "             'B' : Node('B', None, ['A','D','E'], None),\n",
        "             'C' : Node('C', None, ['A','F','G'], None),\n",
        "             'D' : Node('D', None, ['B','E'], None),\n",
        "             'E' : Node('E', None, ['A','B','D'], None),\n",
        "             'F' : Node('F', None, ['C'], None),\n",
        "             'G' : Node('G', None, ['C'], None)}"
      ]
    }
  ]
}